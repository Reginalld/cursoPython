{
 "cells": [
  {
   "cell_type": "code",
   "execution_count": 9,
   "metadata": {},
   "outputs": [],
   "source": [
    "from matplotlib import pyplot as plt \n",
    "import rasterio\n",
    "from rasterio.plot import show"
   ]
  },
  {
   "cell_type": "code",
   "execution_count": 10,
   "metadata": {},
   "outputs": [
    {
     "data": {
      "text/plain": [
       "array([[[ 98,  91, 114, ...,  97,  78,  61],\n",
       "        [ 65,  64,  76, ..., 101,  88,  58],\n",
       "        [ 51,  54,  58, ..., 103,  92,  59],\n",
       "        ...,\n",
       "        [ 19,  23,  28, ...,   0,   0,   0],\n",
       "        [ 21,  23,  26, ...,   0,   0,   0],\n",
       "        [ 19,  19,  22, ...,   0,   0,   0]],\n",
       "\n",
       "       [[182, 167, 169, ..., 107,  89,  74],\n",
       "        [135, 132, 156, ..., 108, 100,  70],\n",
       "        [131, 125, 125, ..., 107,  96,  72],\n",
       "        ...,\n",
       "        [ 72,  74,  77, ...,   0,   0,   0],\n",
       "        [ 78,  76,  76, ...,   0,   0,   0],\n",
       "        [ 79,  80,  77, ...,   0,   0,   0]],\n",
       "\n",
       "       [[143, 122, 138, ..., 104,  75,  64],\n",
       "        [ 97,  94, 108, ...,  94,  88,  61],\n",
       "        [ 82,  81,  91, ..., 100,  93,  60],\n",
       "        ...,\n",
       "        [ 49,  47,  50, ...,   0,   0,   0],\n",
       "        [ 57,  53,  54, ...,   0,   0,   0],\n",
       "        [ 51,  44,  52, ...,   0,   0,   0]]],\n",
       "      shape=(3, 10980, 10980), dtype=uint8)"
      ]
     },
     "execution_count": 10,
     "metadata": {},
     "output_type": "execute_result"
    }
   ],
   "source": [
    "img_script = rasterio.open('/home/reginaldo/Documentos/leitor_satelite/todos_os_estudos/brazil_data_cube/images_analises/Quadrante_1_55.250_S2_L2A-1_-24.9073_-50.4544_2025-03-01_2025-03-30_RGB.tif')\n",
    "full_img = img_script.read()\n",
    "full_img"
   ]
  },
  {
   "cell_type": "code",
   "execution_count": 11,
   "metadata": {},
   "outputs": [
    {
     "name": "stdout",
     "output_type": "stream",
     "text": [
      "Metadata: {'driver': 'GTiff', 'dtype': 'uint8', 'nodata': None, 'width': 10980, 'height': 10980, 'count': 3, 'crs': CRS.from_wkt('PROJCS[\"WGS 84 / UTM zone 22S\",GEOGCS[\"WGS 84\",DATUM[\"WGS_1984\",SPHEROID[\"WGS 84\",6378137,298.257223563,AUTHORITY[\"EPSG\",\"7030\"]],AUTHORITY[\"EPSG\",\"6326\"]],PRIMEM[\"Greenwich\",0,AUTHORITY[\"EPSG\",\"8901\"]],UNIT[\"degree\",0.0174532925199433,AUTHORITY[\"EPSG\",\"9122\"]],AUTHORITY[\"EPSG\",\"4326\"]],PROJECTION[\"Transverse_Mercator\"],PARAMETER[\"latitude_of_origin\",0],PARAMETER[\"central_meridian\",-51],PARAMETER[\"scale_factor\",0.9996],PARAMETER[\"false_easting\",500000],PARAMETER[\"false_northing\",10000000],UNIT[\"metre\",1,AUTHORITY[\"EPSG\",\"9001\"]],AXIS[\"Easting\",EAST],AXIS[\"Northing\",NORTH],AUTHORITY[\"EPSG\",\"32722\"]]'), 'transform': Affine(10.0, 0.0, 499980.0,\n",
      "       0.0, -10.0, 7300000.0)}\n",
      "\n"
     ]
    }
   ],
   "source": [
    "metadata = img_script.meta\n",
    "print('Metadata: {metadata}\\n'.format(metadata=metadata))"
   ]
  },
  {
   "cell_type": "code",
   "execution_count": 12,
   "metadata": {},
   "outputs": [
    {
     "name": "stdout",
     "output_type": "stream",
     "text": [
      "Raster description: (None, None, None)\n",
      "\n"
     ]
    }
   ],
   "source": [
    "desc = img_script.descriptions\n",
    "print('Raster description: {desc}\\n'.format(desc=desc))"
   ]
  },
  {
   "cell_type": "code",
   "execution_count": 13,
   "metadata": {},
   "outputs": [
    {
     "data": {
      "text/plain": [
       "array([[[  0,   0,   0, ...,  68,  66,  64],\n",
       "        [  0,   0,   0, ...,  69,  66,  62],\n",
       "        [  0,   0,   0, ...,  68,  67,  62],\n",
       "        ...,\n",
       "        [  0,   0,   0, ..., 150, 148, 148],\n",
       "        [  0,   0,   0, ..., 149, 147, 149],\n",
       "        [  0,   0,   0, ..., 150, 148, 147]],\n",
       "\n",
       "       [[  0,   0,   0, ...,  72,  69,  64],\n",
       "        [  0,   0,   0, ...,  73,  71,  66],\n",
       "        [  0,   0,   0, ...,  73,  71,  67],\n",
       "        ...,\n",
       "        [  0,   0,   0, ..., 155, 154, 152],\n",
       "        [  0,   0,   0, ..., 154, 153, 152],\n",
       "        [  0,   0,   0, ..., 152, 152, 150]],\n",
       "\n",
       "       [[  0,   0,   0, ...,  55,  54,  52],\n",
       "        [  0,   0,   0, ...,  55,  54,  51],\n",
       "        [  0,   0,   0, ...,  55,  54,  52],\n",
       "        ...,\n",
       "        [  0,   0,   0, ..., 145, 147, 146],\n",
       "        [  0,   0,   0, ..., 142, 141, 144],\n",
       "        [  0,   0,   0, ..., 140, 136, 138]]],\n",
       "      shape=(3, 10980, 10980), dtype=uint8)"
      ]
     },
     "execution_count": 13,
     "metadata": {},
     "output_type": "execute_result"
    }
   ],
   "source": [
    "img_script = rasterio.open('/home/reginaldo/Documentos/leitor_satelite/todos_os_estudos/brazil_data_cube/images_analises/Quadrante_12_55.250_S2_L2A-1_-24.9073_-50.4544_2025-03-01_2025-03-30_RGB.tif')\n",
    "full_img = img_script.read()\n",
    "full_img\n"
   ]
  },
  {
   "cell_type": "code",
   "execution_count": 14,
   "metadata": {},
   "outputs": [
    {
     "name": "stdout",
     "output_type": "stream",
     "text": [
      "Metadata: {'driver': 'GTiff', 'dtype': 'uint8', 'nodata': None, 'width': 10980, 'height': 10980, 'count': 3, 'crs': CRS.from_wkt('PROJCS[\"WGS 84 / UTM zone 22S\",GEOGCS[\"WGS 84\",DATUM[\"WGS_1984\",SPHEROID[\"WGS 84\",6378137,298.257223563,AUTHORITY[\"EPSG\",\"7030\"]],AUTHORITY[\"EPSG\",\"6326\"]],PRIMEM[\"Greenwich\",0,AUTHORITY[\"EPSG\",\"8901\"]],UNIT[\"degree\",0.0174532925199433,AUTHORITY[\"EPSG\",\"9122\"]],AUTHORITY[\"EPSG\",\"4326\"]],PROJECTION[\"Transverse_Mercator\"],PARAMETER[\"latitude_of_origin\",0],PARAMETER[\"central_meridian\",-51],PARAMETER[\"scale_factor\",0.9996],PARAMETER[\"false_easting\",500000],PARAMETER[\"false_northing\",10000000],UNIT[\"metre\",1,AUTHORITY[\"EPSG\",\"9001\"]],AXIS[\"Easting\",EAST],AXIS[\"Northing\",NORTH],AUTHORITY[\"EPSG\",\"32722\"]]'), 'transform': Affine(10.0, 0.0, 499980.0,\n",
      "       0.0, -10.0, 7300000.0)}\n",
      "\n"
     ]
    }
   ],
   "source": [
    "metadata = img_script.meta\n",
    "print('Metadata: {metadata}\\n'.format(metadata=metadata))"
   ]
  },
  {
   "cell_type": "code",
   "execution_count": 15,
   "metadata": {},
   "outputs": [
    {
     "name": "stdout",
     "output_type": "stream",
     "text": [
      "Raster description: (None, None, None)\n",
      "\n"
     ]
    }
   ],
   "source": [
    "desc = img_script.descriptions\n",
    "print('Raster description: {desc}\\n'.format(desc=desc))"
   ]
  }
 ],
 "metadata": {
  "kernelspec": {
   "display_name": "venv",
   "language": "python",
   "name": "python3"
  },
  "language_info": {
   "codemirror_mode": {
    "name": "ipython",
    "version": 3
   },
   "file_extension": ".py",
   "mimetype": "text/x-python",
   "name": "python",
   "nbconvert_exporter": "python",
   "pygments_lexer": "ipython3",
   "version": "3.10.12"
  }
 },
 "nbformat": 4,
 "nbformat_minor": 2
}
