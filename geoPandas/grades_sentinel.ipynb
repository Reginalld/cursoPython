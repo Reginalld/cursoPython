{
 "cells": [
  {
   "cell_type": "code",
   "execution_count": 5,
   "metadata": {},
   "outputs": [],
   "source": [
    "import geopandas as gpd\n",
    "import re"
   ]
  },
  {
   "cell_type": "code",
   "execution_count": 10,
   "metadata": {},
   "outputs": [
    {
     "name": "stdout",
     "output_type": "stream",
     "text": [
      "       NAME              LAYER                          _font_COLO  \\\n",
      "0     18LXQ  Unknown Area Type  <font COLOR=\"#008000\">18LXQ</font>   \n",
      "1     18LXR  Unknown Area Type  <font COLOR=\"#008000\">18LXR</font>   \n",
      "2     18LYP  Unknown Area Type  <font COLOR=\"#008000\">18LYP</font>   \n",
      "3     18LYQ  Unknown Area Type  <font COLOR=\"#008000\">18LYQ</font>   \n",
      "4     18LYR  Unknown Area Type  <font COLOR=\"#008000\">18LYR</font>   \n",
      "...     ...                ...                                 ...   \n",
      "1095  25MCN  Unknown Area Type  <font COLOR=\"#008000\">25MCN</font>   \n",
      "1096  25MCP  Unknown Area Type  <font COLOR=\"#008000\">25MCP</font>   \n",
      "1097  25MER  Unknown Area Type  <font COLOR=\"#008000\">25MER</font>   \n",
      "1098  26KKC  Unknown Area Type  <font COLOR=\"#008000\">26KKC</font>   \n",
      "1099  26KLC  Unknown Area Type  <font COLOR=\"#008000\">26KLC</font>   \n",
      "\n",
      "                              _font_COL1  \\\n",
      "0     <font COLOR=\"#008000\">32718</font>   \n",
      "1     <font COLOR=\"#008000\">32718</font>   \n",
      "2     <font COLOR=\"#008000\">32718</font>   \n",
      "3     <font COLOR=\"#008000\">32718</font>   \n",
      "4     <font COLOR=\"#008000\">32718</font>   \n",
      "...                                  ...   \n",
      "1095  <font COLOR=\"#008000\">32725</font>   \n",
      "1096  <font COLOR=\"#008000\">32725</font>   \n",
      "1097  <font COLOR=\"#008000\">32725</font>   \n",
      "1098  <font COLOR=\"#008000\">32726</font>   \n",
      "1099  <font COLOR=\"#008000\">32726</font>   \n",
      "\n",
      "                                             _font_COL2  \\\n",
      "0     <font COLOR=\"#008000\">-9.0454332618 -74.090120...   \n",
      "1     <font COLOR=\"#008000\">-8.1410194048 -74.092274...   \n",
      "2     <font COLOR=\"#008000\">-9.9460709594 -73.175699...   \n",
      "3     <font COLOR=\"#008000\">-9.0420470664 -73.180477...   \n",
      "4     <font COLOR=\"#008000\">-8.1379764451 -73.184782...   \n",
      "...                                                 ...   \n",
      "1095  <font COLOR=\"#008000\">-6.3297132747 -34.808005...   \n",
      "1096  <font COLOR=\"#008000\">-5.4255299426 -34.805088...   \n",
      "1097  <font COLOR=\"#008000\">-3.6188771927 -33 -3.618...   \n",
      "1098  <font COLOR=\"#008000\">-19.873193764 -29.864713...   \n",
      "1099  <font COLOR=\"#008000\">-19.885995125 -28.910304...   \n",
      "\n",
      "                                             _font_COL3  \\\n",
      "0     <font COLOR=\"#008000\">MULTIPOLYGON(((600000 90...   \n",
      "1     <font COLOR=\"#008000\">MULTIPOLYGON(((600000 91...   \n",
      "2     <font COLOR=\"#008000\">MULTIPOLYGON(((699960 89...   \n",
      "3     <font COLOR=\"#008000\">MULTIPOLYGON(((699960 90...   \n",
      "4     <font COLOR=\"#008000\">MULTIPOLYGON(((699960 91...   \n",
      "...                                                 ...   \n",
      "1095  <font COLOR=\"#008000\">MULTIPOLYGON(((300000 93...   \n",
      "1096  <font COLOR=\"#008000\">MULTIPOLYGON(((300000 94...   \n",
      "1097  <font COLOR=\"#008000\">MULTIPOLYGON(((499980 96...   \n",
      "1098  <font COLOR=\"#008000\">MULTIPOLYGON(((199980 78...   \n",
      "1099  <font COLOR=\"#008000\">MULTIPOLYGON(((300000 78...   \n",
      "\n",
      "                                             _font_COL4 KML_FOLDER CLOSED  \\\n",
      "0     <font COLOR=\"#008000\">MULTIPOLYGON(((-74.09012...   Features    YES   \n",
      "1     <font COLOR=\"#008000\">MULTIPOLYGON(((-74.09227...   Features    YES   \n",
      "2     <font COLOR=\"#008000\">MULTIPOLYGON(((-73.17606...   Features    YES   \n",
      "3     <font COLOR=\"#008000\">MULTIPOLYGON(((-73.18084...   Features    YES   \n",
      "4     <font COLOR=\"#008000\">MULTIPOLYGON(((-73.18514...   Features    YES   \n",
      "...                                                 ...        ...    ...   \n",
      "1095  <font COLOR=\"#008000\">MULTIPOLYGON(((-34.80800...   Features    YES   \n",
      "1096  <font COLOR=\"#008000\">MULTIPOLYGON(((-34.80508...   Features    YES   \n",
      "1097  <font COLOR=\"#008000\">MULTIPOLYGON(((-33.00018...   Features    YES   \n",
      "1098  <font COLOR=\"#008000\">MULTIPOLYGON(((-29.86489...   Features    YES   \n",
      "1099  <font COLOR=\"#008000\">MULTIPOLYGON(((-28.91030...   Features    YES   \n",
      "\n",
      "     BORDER_STY  FILL_STYLE    FILL_COLOR                      LABEL_POS  \\\n",
      "0          Null  Solid Fill  RGB(255,0,0)   -73.5886935802,-9.5396490869   \n",
      "1          Null  Solid Fill  RGB(255,0,0)   -73.5922286097,-8.6358163494   \n",
      "2          Null  Solid Fill  RGB(255,0,0)  -72.6719424324,-10.4386946623   \n",
      "3          Null  Solid Fill  RGB(255,0,0)   -72.6783637717,-9.5348394906   \n",
      "4          Null  Solid Fill  RGB(255,0,0)   -72.6841750367,-8.6314758144   \n",
      "...         ...         ...           ...                            ...   \n",
      "1095       Null  Solid Fill  RGB(255,0,0)   -34.3131168181,-6.8271814216   \n",
      "1096       Null  Solid Fill  RGB(255,0,0)   -34.3108183756,-5.9231971629   \n",
      "1097       Null  Solid Fill  RGB(255,0,0)   -32.5055469781,-4.1149166977   \n",
      "1098       Null  Solid Fill  RGB(255,0,0)  -29.3484418191,-20.3755608198   \n",
      "1099       Null  Solid Fill  RGB(255,0,0)  -28.3904560524,-20.3857518493   \n",
      "\n",
      "      FONT_SIZE  FONT_COLOR  FONT_CHARS  \\\n",
      "0            12  RGB(0,0,0)           0   \n",
      "1            12  RGB(0,0,0)           0   \n",
      "2            12  RGB(0,0,0)           0   \n",
      "3            12  RGB(0,0,0)           0   \n",
      "4            12  RGB(0,0,0)           0   \n",
      "...         ...         ...         ...   \n",
      "1095         12  RGB(0,0,0)           0   \n",
      "1096         12  RGB(0,0,0)           0   \n",
      "1097         12  RGB(0,0,0)           0   \n",
      "1098         12  RGB(0,0,0)           0   \n",
      "1099         12  RGB(0,0,0)           0   \n",
      "\n",
      "                                               geometry  \n",
      "0     POLYGON ((-74.09012 -9.04507, -73.09136 -9.041...  \n",
      "1     POLYGON ((-74.09227 -8.14102, -73.09587 -8.137...  \n",
      "2     POLYGON ((-73.17607 -9.94589, -72.17522 -9.938...  \n",
      "3     POLYGON ((-73.18084 -9.04169, -72.18261 -9.035...  \n",
      "4     POLYGON ((-73.18515 -8.13798, -72.18927 -8.132...  \n",
      "...                                                 ...  \n",
      "1095  POLYGON ((-34.808 -6.32935, -33.81552 -6.33186...  \n",
      "1096  POLYGON ((-34.80509 -5.42553, -33.8142 -5.4276...  \n",
      "1097  POLYGON ((-33.00018 -3.61852, -32.01153 -3.617...  \n",
      "1098  POLYGON ((-29.8649 -19.87283, -28.81692 -19.88...  \n",
      "1099  POLYGON ((-28.9103 -19.88563, -27.86169 -19.89...  \n",
      "\n",
      "[1100 rows x 17 columns]\n"
     ]
    }
   ],
   "source": [
    "grid = gpd.read_file(\"shapefile/grade_sentinel_brasil.shp\")\n",
    "\n",
    "print(grid)"
   ]
  },
  {
   "cell_type": "code",
   "execution_count": 6,
   "metadata": {},
   "outputs": [
    {
     "name": "stderr",
     "output_type": "stream",
     "text": [
      "/tmp/ipykernel_16347/885721881.py:3: FutureWarning: DataFrame.applymap has been deprecated. Use DataFrame.map instead.\n",
      "  grid = grid.applymap(clean_html)\n"
     ]
    }
   ],
   "source": [
    "def clean_html(value):\n",
    "    return re.sub(r'<.*?>', \"\", str(value))\n",
    "grid = grid.applymap(clean_html)"
   ]
  },
  {
   "cell_type": "code",
   "execution_count": 7,
   "metadata": {},
   "outputs": [
    {
     "name": "stdout",
     "output_type": "stream",
     "text": [
      "    NAME              LAYER _font_COLO _font_COL1  \\\n",
      "0  18LXQ  Unknown Area Type      18LXQ      32718   \n",
      "1  18LXR  Unknown Area Type      18LXR      32718   \n",
      "2  18LYP  Unknown Area Type      18LYP      32718   \n",
      "3  18LYQ  Unknown Area Type      18LYQ      32718   \n",
      "4  18LYR  Unknown Area Type      18LYR      32718   \n",
      "\n",
      "                                          _font_COL2  \\\n",
      "0  -9.0454332618 -74.090120468 -9.0420470664 -73....   \n",
      "1  -8.1410194048 -74.092274318 -8.1379764451 -73....   \n",
      "2  -9.9460709594 -73.175699616 -9.9398576908 -72....   \n",
      "3  -9.0420470664 -73.180477491 -9.0364081054 -72....   \n",
      "4  -8.1379764451 -73.184782467 -8.1329090555 -72....   \n",
      "\n",
      "                                          _font_COL3  \\\n",
      "0  MULTIPOLYGON(((600000 9000040,600000 8890240,7...   \n",
      "1  MULTIPOLYGON(((600000 9100000,600000 8990200,7...   \n",
      "2  MULTIPOLYGON(((699960 8900020,699960 8790220,8...   \n",
      "3  MULTIPOLYGON(((699960 9000040,699960 8890240,8...   \n",
      "4  MULTIPOLYGON(((699960 9100000,699960 8990200,8...   \n",
      "\n",
      "                                          _font_COL4 KML_FOLDER CLOSED  \\\n",
      "0  MULTIPOLYGON(((-74.0901213767146 -9.0450715049...   Features    YES   \n",
      "1  MULTIPOLYGON(((-74.0922743179804 -8.1410194047...   Features    YES   \n",
      "2  MULTIPOLYGON(((-73.1760653517447 -9.9458921486...   Features    YES   \n",
      "3  MULTIPOLYGON(((-73.1808430854189 -9.0416872523...   Features    YES   \n",
      "4  MULTIPOLYGON(((-73.1851453862707 -8.1379780673...   Features    YES   \n",
      "\n",
      "  BORDER_STY  FILL_STYLE    FILL_COLOR                      LABEL_POS  \\\n",
      "0       Null  Solid Fill  RGB(255,0,0)   -73.5886935802,-9.5396490869   \n",
      "1       Null  Solid Fill  RGB(255,0,0)   -73.5922286097,-8.6358163494   \n",
      "2       Null  Solid Fill  RGB(255,0,0)  -72.6719424324,-10.4386946623   \n",
      "3       Null  Solid Fill  RGB(255,0,0)   -72.6783637717,-9.5348394906   \n",
      "4       Null  Solid Fill  RGB(255,0,0)   -72.6841750367,-8.6314758144   \n",
      "\n",
      "  FONT_SIZE  FONT_COLOR FONT_CHARS  \\\n",
      "0        12  RGB(0,0,0)          0   \n",
      "1        12  RGB(0,0,0)          0   \n",
      "2        12  RGB(0,0,0)          0   \n",
      "3        12  RGB(0,0,0)          0   \n",
      "4        12  RGB(0,0,0)          0   \n",
      "\n",
      "                                            geometry  \n",
      "0  POLYGON ((-74.0901213767 -9.0450715049, -73.09...  \n",
      "1  POLYGON ((-74.092274318 -8.1410194048, -73.095...  \n",
      "2  POLYGON ((-73.1760653517 -9.9458921487, -72.17...  \n",
      "3  POLYGON ((-73.1808430854 -9.0416872524, -72.18...  \n",
      "4  POLYGON ((-73.1851453863 -8.1379780673, -72.18...  \n"
     ]
    }
   ],
   "source": [
    "print(grid.head())"
   ]
  },
  {
   "cell_type": "code",
   "execution_count": 13,
   "metadata": {},
   "outputs": [],
   "source": [
    "tile_id = \"21KXP\"\n",
    "selected_tile = grid[grid[\"NAME\"] == tile_id]"
   ]
  },
  {
   "cell_type": "code",
   "execution_count": 20,
   "metadata": {},
   "outputs": [
    {
     "name": "stdout",
     "output_type": "stream",
     "text": [
      "Bounding Box do Tile 21KXP: {'west': -56.0205512761, 'south': -24.498532423, 'east': -54.92971654819999, 'north': -23.4964638348, 'crs': 'EPSG:4326'}\n"
     ]
    }
   ],
   "source": [
    "if not selected_tile.empty:\n",
    "\n",
    "    tile_geometry = selected_tile.geometry.iloc[0]\n",
    "    minx, miny, maxx, maxy = tile_geometry.bounds\n",
    "\n",
    "    bbox_dict = {\n",
    "        \"west\": minx,\n",
    "        \"south\": miny,\n",
    "        \"east\": maxx,\n",
    "        \"north\": maxy,\n",
    "        \"crs\": \"EPSG:4326\"\n",
    "    }\n",
    "    print(f\"Bounding Box do Tile {tile_id}: {bbox_dict}\")\n",
    "else:\n",
    "    print(f\"Tile {tile_id} não encontrado na grade.\")"
   ]
  }
 ],
 "metadata": {
  "kernelspec": {
   "display_name": "venv",
   "language": "python",
   "name": "python3"
  },
  "language_info": {
   "codemirror_mode": {
    "name": "ipython",
    "version": 3
   },
   "file_extension": ".py",
   "mimetype": "text/x-python",
   "name": "python",
   "nbconvert_exporter": "python",
   "pygments_lexer": "ipython3",
   "version": "3.10.12"
  }
 },
 "nbformat": 4,
 "nbformat_minor": 2
}
