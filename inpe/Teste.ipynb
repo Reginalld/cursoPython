{
 "cells": [
  {
   "cell_type": "code",
   "execution_count": 1,
   "metadata": {},
   "outputs": [],
   "source": [
    "# importa a biblioteca pystac_client\n",
    "from pystac_client import Client\n"
   ]
  },
  {
   "cell_type": "code",
   "execution_count": 2,
   "metadata": {},
   "outputs": [],
   "source": [
    "# endereço do ponto de acesso ao serviço\n",
    "datainpe = \"https://data.inpe.br/bdc/stac/v1/\"\n",
    "# cria um objeto para o catálogo\n",
    "catalogo = Client.open(datainpe)"
   ]
  },
  {
   "cell_type": "code",
   "execution_count": 3,
   "metadata": {},
   "outputs": [
    {
     "name": "stdout",
     "output_type": "stream",
     "text": [
      "ID: INPE\n",
      "Titulo: INPE STAC Server\n",
      "Descricao: This is the landing page for the INPE STAC server. The SpatioTemporal Asset Catalogs (STAC) provide a standardized way to expose collections of spatial temporal data. Here you will find collections of data provided by projects and areas of INPE.\n"
     ]
    }
   ],
   "source": [
    "# mostra algumas informações básicas do catálogo\n",
    "print(f\"ID: {catalogo.id}\")\n",
    "print(f\"Titulo: {catalogo.title or 'N/A'}\")\n",
    "print(f\"Descricao: {catalogo.description or 'N/A'}\")"
   ]
  },
  {
   "cell_type": "code",
   "execution_count": 4,
   "metadata": {},
   "outputs": [
    {
     "name": "stdout",
     "output_type": "stream",
     "text": [
      "Esse catálogo possui 63 coleções\n",
      "IDs coleções:\n",
      "- mosaic-cbers4a-paraiba-3m-1\n",
      "- LCC_L8_30_16D_STK_Cerrado-1\n",
      "- mosaic-landsat-sp-6m-1\n",
      "- mosaic-s2-paraiba-3m-1\n",
      "- LCC_L8_30_16D_STK_MataAtlantica-1\n",
      "- mosaic-s2-yanomami_territory-6m-1\n",
      "- LCC_L8_30_16D_STK_Pantanal-1\n",
      "- LCC_L8_30_1M_STK_Cerrado-1\n",
      "- mosaic-landsat-amazon-3m-1\n",
      "- LCC_C4_64_1M_STK_GO_PA-SPC-AC-NA-1\n",
      "- mosaic-landsat-brazil-6m-1\n",
      "- mosaic-s2-amazon-3m-1\n",
      "- S2-16D-2\n",
      "- charter-wfi-1\n",
      "- mosaic-s2-cerrado-4m-1\n",
      "- mosaic-cbers4-brazil-3m-1\n",
      "- LCC_C4_64_1M_STK_MT_PA-SPC-AC-NA-1\n",
      "- mosaic-s2-cerrado-2m-1\n",
      "- LCC_L8_30_16D_STK_Pampa-1\n",
      "- LCC_L8_30_1M_STK_PA-SPC-AC-NA-1\n",
      "- LCC_S2_10_1M_STK_PA-SPC-AC-NA-1\n",
      "- LCC_C4_64_1M_STK_MT_RF_PA-SPC-AC-NA-1\n",
      "- LCC_C4_64_1M_STK_PA-SPC-AC-NA-1\n",
      "- LCC_L8_30_16D_STK_Amazonia-TC-1\n",
      "- mod13q1-6.1\n",
      "- LCC_L8_30_16D_STK_Caatinga-1\n",
      "- charter-mux-1\n",
      "- KD_S2_20M_VISBANDS_CURUAI-1\n",
      "- mosaic-s2-amazon-1m-1\n",
      "- GOES13-L3-IMAGER-1\n",
      "- CBERS-WFI-8D-1\n",
      "- charter-wpm-1\n",
      "- CBERS4-WFI-16D-2\n",
      "- charter-pan-1\n",
      "- sentinel-1-grd-bundle-1\n",
      "- sentinel-3-olci-l1-bundle-1\n",
      "- CB4-PAN10M-L4-DN-1\n",
      "- CBERS4-MUX-2M-1\n",
      "- landsat-2\n",
      "- GOES16-L2-CMI-1\n",
      "- S2_L2A_BUNDLE-1\n",
      "- CB4-WFI-L4-DN-1\n",
      "- S2_L2A-1\n",
      "- S2_L1C_BUNDLE-1\n",
      "- CB4-WFI-L2-DN-1\n",
      "- CB4-PAN5M-L4-DN-1\n",
      "- LANDSAT-16D-1\n",
      "- myd13q1-6.1\n",
      "- mod11a2-6.1\n",
      "- myd11a2-6.1\n",
      "- CB4-MUX-L4-DN-1\n",
      "- CB4-PAN5M-L2-DN-1\n",
      "- samet_hourly-1\n",
      "- samet_daily-1\n",
      "- CB4-MUX-L2-DN-1\n",
      "- CB4-PAN10M-L2-DN-1\n",
      "- AMZ1-WFI-L4-SR-1\n",
      "- CB4A-WFI-L4-SR-1\n",
      "- CB4-WFI-L4-SR-1\n",
      "- CB4-MUX-L4-SR-1\n",
      "- prec_merge_daily-1\n",
      "- prec_merge_hourly-1\n",
      "- CB4A-WPM-PCA-FUSED-1\n"
     ]
    }
   ],
   "source": [
    "# lista as coleções disponíveis no catálogo\n",
    "collections = list(catalogo.get_collections())\n",
    "print(f\"Esse catálogo possui {len(collections)} coleções\")\n",
    "print(\"IDs coleções:\")\n",
    "for collection in collections:\n",
    " print(f\"- {collection.id}\")"
   ]
  },
  {
   "cell_type": "code",
   "execution_count": 7,
   "metadata": {},
   "outputs": [
    {
     "name": "stdout",
     "output_type": "stream",
     "text": [
      "ID: landsat-2\n",
      "Título: Landsat Collection 2 - Level-2\n",
      "Descrição: Landsat Collection 2 Level-2 Science Products (https://www.usgs.gov/landsat-missions/landsat-collection-2-level-2-science-products), consisting of atmospherically corrected surface reflectance (https://www.usgs.gov/landsat-missions/landsat-collection-2-surface-reflectance) and surface temperature (https://www.usgs.gov/landsat-missions/landsat-collection-2-surface-temperature) image data. Collection 2 Level-2 Science Products are available from August 22, 1982 to present. This dataset represents the Brazilian archive of Level-2 data from Landsat Collection 2 (https://www.usgs.gov/core-science-systems/nli/landsat/landsat-collection-2) acquired by the Thematic Mapper (https://landsat.gsfc.nasa.gov/thematic-mapper/) onboard Landsat 4 and 5, the Enhanced Thematic Mapper (https://landsat.gsfc.nasa.gov/the-enhanced-thematic-mapper-plus-etm/) onboard Landsat 7, and Operatational Land Imager (https://landsat.gsfc.nasa.gov/satellites/landsat-8/spacecraft-instruments/operational-land-imager/) and Thermal Infrared Sensor (https://landsat.gsfc.nasa.gov/satellites/landsat-8/spacecraft-instruments/thermal-infrared-sensor/) onboard Landsat 8 and 9. Images are stored in cloud-optimized GeoTIFF (https://www.cogeo.org/) format.\n",
      "Palavras chave: ['landsat', 'oli', 'tirs', 'level-2a', 'collection-2', 'surface reflectance', 'cloud optimized geotiff', 'cog', 'earth observation', 'brazil']\n"
     ]
    }
   ],
   "source": [
    "# consulta uma coleção em particular”\n",
    "cbers4af = catalogo.get_collection(\"landsat-2\")\n",
    "print(f\"ID: {cbers4af.id}\")\n",
    "print(f\"Título: {cbers4af.title or 'N/A'}\")\n",
    "print(f\"Descrição: {cbers4af.description or 'N/A'}\")\n",
    "print(f\"Palavras chave: {cbers4af.keywords or 'N/A'}\")"
   ]
  },
  {
   "cell_type": "code",
   "execution_count": 14,
   "metadata": {},
   "outputs": [
    {
     "name": "stdout",
     "output_type": "stream",
     "text": [
      " A coleção landsat-2 possui 267450 itens.\n"
     ]
    },
    {
     "data": {
      "text/plain": [
       "6"
      ]
     },
     "execution_count": 14,
     "metadata": {},
     "output_type": "execute_result"
    }
   ],
   "source": [
    "# consulta uma coleção\n",
    "consulta = catalogo.search(collections=['landsat-2'], max_items=5)\n",
    "print(f\" A coleção landsat-2 possui {consulta.matched()} itens.\")\n",
    "# consulta com parâmetros\n",
    "bbox = [-54.6457, -25.4808, -54.5457, -25.3908]\n",
    "intervalo = \"2024-05-01/2024-05-15\"\n",
    "search = catalogo.search(collections=[\"landsat-2\"], bbox=bbox,\n",
    " datetime=intervalo)\n",
    "items = search.item_collection()\n",
    "len(items)"
   ]
  },
  {
   "cell_type": "code",
   "execution_count": 10,
   "metadata": {},
   "outputs": [
    {
     "name": "stdout",
     "output_type": "stream",
     "text": [
      "ID: LC08_L2SP_222081_20240515_20240521_02_T1\n",
      "Data: 2024-05-15 00:00:00+00:00\n",
      "Geometria: {'type': 'Polygon', 'coordinates': [[[-51.730627066751246, -31.36346759704813], [-51.715298082216094, -29.276074080181314], [-54.073322029586976, -29.24264352739936], [-54.13906066667238, -31.327137446888898], [-51.730627066751246, -31.36346759704813]]]}\n",
      "ID: LC08_L2SP_222082_20240515_20240521_02_T1\n",
      "Data: 2024-05-15 00:00:00+00:00\n",
      "Geometria: {'type': 'Polygon', 'coordinates': [[[-52.10104149529937, -32.80327522108354], [-52.07663609748554, -30.719265797516165], [-54.46520142294705, -30.677472072521557], [-54.543572427404676, -32.7579633442126], [-52.10104149529937, -32.80327522108354]]]}\n",
      "ID: LC08_L2SP_222083_20240515_20240521_02_T1\n",
      "Data: 2024-05-15 00:00:00+00:00\n",
      "Geometria: {'type': 'Polygon', 'coordinates': [[[-52.477699755482455, -34.23873997179748], [-52.443193449198624, -32.160919038055155], [-54.864585893586124, -32.11011190728608], [-54.956737241294114, -34.18377379884504], [-52.477699755482455, -34.23873997179748]]]}\n",
      "ID: LC09_L2SP_223081_20240514_20240604_02_T1\n",
      "Data: 2024-05-14 00:00:00+00:00\n",
      "Geometria: {'type': 'Polygon', 'coordinates': [[[-53.22169476596643, -31.345049877572954], [-53.30261255625715, -29.21330575305062], [-55.71774768102276, -29.25829983801231], [-55.68961449032953, -31.39403984872128], [-53.22169476596643, -31.345049877572954]]]}\n",
      "ID: LC09_L2SP_223082_20240514_20240604_02_T1\n",
      "Data: 2024-05-14 00:00:00+00:00\n",
      "Geometria: {'type': 'Polygon', 'coordinates': [[[-53.58454178198237, -32.783158722976886], [-53.6618309457228, -30.653753196875904], [-56.11262981349774, -30.693628269652052], [-56.092039597994166, -32.826472601157086], [-53.58454178198237, -32.783158722976886]]]}\n",
      "ID: LC08_L2SP_224081_20240513_20240521_02_T1\n",
      "Data: 2024-05-13 00:00:00+00:00\n",
      "Geometria: {'type': 'Polygon', 'coordinates': [[[-54.78163995215078, -31.35448433391368], [-54.828900377571834, -29.23328391674472], [-57.22451710743959, -29.250723177622792], [-57.22940917220856, -31.37346343301547], [-54.78163995215078, -31.35448433391368]]]}\n",
      "ID: LC08_L2SP_224082_20240513_20240521_02_T1\n",
      "Data: 2024-05-13 00:00:00+00:00\n",
      "Geometria: {'type': 'Polygon', 'coordinates': [[[-55.14702931591337, -32.791699419203], [-55.188686141486265, -30.67590920660438], [-57.61930129941606, -30.687062125018862], [-57.63355274450072, -32.80380716375616], [-55.14702931591337, -32.791699419203]]]}\n",
      "ID: LC09_L2SP_225081_20240512_20240513_02_T2\n",
      "Data: 2024-05-12 00:00:00+00:00\n",
      "Geometria: {'type': 'Polygon', 'coordinates': [[[-56.37108232518929, -31.358593060694982], [-56.3843560215728, -29.25761715238693], [-58.761921874435814, -29.24742351738573], [-58.79988838379434, -31.34750883949042], [-56.37108232518929, -31.358593060694982]]]}\n",
      "ID: LC09_L2SP_220081_20240509_20240511_02_T1\n",
      "Data: 2024-05-09 00:00:00+00:00\n",
      "Geometria: {'type': 'Polygon', 'coordinates': [[[-48.61775644335453, -31.351544848422105], [-48.668439423044106, -29.23328832020568], [-51.067053482042255, -29.25360255268183], [-51.068512738626126, -31.37365028373262], [-48.61775644335453, -31.351544848422105]]]}\n",
      "ID: LC09_L2SP_220082_20240509_20240511_02_T1\n",
      "Data: 2024-05-09 00:00:00+00:00\n",
      "Geometria: {'type': 'Polygon', 'coordinates': [[[-48.9837241770094, -32.78917607783545], [-49.029046659191195, -30.67358482946569], [-51.46269300450152, -30.68771437103473], [-51.47334093751908, -32.804515257592314], [-48.9837241770094, -32.78917607783545]]]}\n",
      "ID: LC08_L2SP_221081_20240508_20240514_02_T1\n",
      "Data: 2024-05-08 00:00:00+00:00\n",
      "Geometria: {'type': 'Polygon', 'coordinates': [[[-50.18181453234639, -31.360232357158495], [-50.199125949189416, -29.253928245282726], [-52.579795596168964, -29.246992826521993], [-52.61393063385635, -31.352689374708902], [-50.18181453234639, -31.360232357158495]]]}\n",
      "ID: LC08_L2SP_221082_20240508_20240514_02_T2\n",
      "Data: 2024-05-08 00:00:00+00:00\n",
      "Geometria: {'type': 'Polygon', 'coordinates': [[[-50.55019811885834, -32.796483527330565], [-50.5602398016518, -30.69591520742121], [-52.9721616442978, -30.681685472413662], [-53.017159914398974, -32.781045314021874], [-50.55019811885834, -32.796483527330565]]]}\n",
      "ID: LC08_L2SP_221083_20240508_20240514_02_T2\n",
      "Data: 2024-05-08 00:00:00+00:00\n",
      "Geometria: {'type': 'Polygon', 'coordinates': [[[-50.923827619269474, -34.23409422807338], [-50.925621585569694, -32.136650900085236], [-53.371127963900925, -32.114463685439304], [-53.42825067691074, -34.210071863573894], [-50.923827619269474, -34.23409422807338]]]}\n",
      "ID: LC09_L2SP_222081_20240507_20240508_02_T1\n",
      "Data: 2024-05-07 00:00:00+00:00\n",
      "Geometria: {'type': 'Polygon', 'coordinates': [[[-51.75901519024526, -31.36330277738094], [-51.74311032636676, -29.278629869494477], [-54.10114895246007, -29.244706112207606], [-54.167397087909215, -31.326440732433536], [-51.75901519024526, -31.36330277738094]]]}\n",
      "ID: LC09_L2SP_222082_20240507_20240508_02_T2\n",
      "Data: 2024-05-07 00:00:00+00:00\n",
      "Geometria: {'type': 'Polygon', 'coordinates': [[[-52.12663730875654, -32.80034154816615], [-52.10169821606976, -30.719055509408072], [-54.49021091711368, -30.676801815301324], [-54.56903679118286, -32.75453574022179], [-52.12663730875654, -32.80034154816615]]]}\n",
      "ID: LC09_L2SP_222083_20240507_20240508_02_T2\n",
      "Data: 2024-05-07 00:00:00+00:00\n",
      "Geometria: {'type': 'Polygon', 'coordinates': [[[-52.50375269357487, -34.238423156334775], [-52.468638550369306, -32.1606262081839], [-54.89313916349202, -32.109236034928635], [-54.98596703471137, -34.18282627304589], [-52.50375269357487, -34.238423156334775]]]}\n",
      "ID: LC08_L2SP_223081_20240506_20240514_02_T1\n",
      "Data: 2024-05-06 00:00:00+00:00\n",
      "Geometria: {'type': 'Polygon', 'coordinates': [[[-53.221586647065216, -31.347750794791715], [-53.30261255625715, -29.21330575305062], [-55.71774768102276, -29.25829983801231], [-55.68957689689378, -31.39674593936972], [-53.221586647065216, -31.347750794791715]]]}\n",
      "ID: LC08_L2SP_223082_20240506_20240514_02_T1\n",
      "Data: 2024-05-06 00:00:00+00:00\n",
      "Geometria: {'type': 'Polygon', 'coordinates': [[[-53.58443843189768, -32.7858601067499], [-53.661923899807526, -30.651050694008703], [-56.11265457509891, -30.690921499134678], [-56.09201206297335, -32.82917844835866], [-53.58443843189768, -32.7858601067499]]]}\n",
      "ID: LC09_L2SP_224081_20240505_20240506_02_T2\n",
      "Data: 2024-05-05 00:00:00+00:00\n",
      "Geometria: {'type': 'Polygon', 'coordinates': [[[-54.79115874691538, -31.351942740005615], [-54.83809798751094, -29.236139645035777], [-57.23687350174658, -29.253409534819887], [-57.24202148627233, -31.370733456140744], [-54.79115874691538, -31.351942740005615]]]}\n",
      "ID: LC09_L2SP_224082_20240505_20240506_02_T2\n",
      "Data: 2024-05-05 00:00:00+00:00\n",
      "Geometria: {'type': 'Polygon', 'coordinates': [[[-55.156691939026686, -32.78913642597842], [-55.19807726828662, -30.67603983093246], [-57.628697625846144, -30.687016986721193], [-57.64314577918214, -32.8010521324979], [-55.156691939026686, -32.78913642597842]]]}\n",
      "ID: LC08_L2SP_225081_20240504_20240513_02_T2\n",
      "Data: 2024-05-04 00:00:00+00:00\n",
      "Geometria: {'type': 'Polygon', 'coordinates': [[[-56.361619877987, -31.358546327201463], [-56.37509325338904, -29.257574174180327], [-58.75266384535471, -29.247545223617216], [-58.79043111720086, -31.347641177652324], [-56.361619877987, -31.358546327201463]]]}\n",
      "ID: LC08_L2SP_220081_20240501_20240511_02_T2\n",
      "Data: 2024-05-01 00:00:00+00:00\n",
      "Geometria: {'type': 'Polygon', 'coordinates': [[[-48.60193102943796, -31.353955629306615], [-48.65301714947125, -29.233018451188215], [-51.051615234276376, -29.253609403987383], [-51.05274002716034, -31.376364547828974], [-48.60193102943796, -31.353955629306615]]]}\n",
      "ID: LC08_L2SP_220082_20240501_20240511_02_T2\n",
      "Data: 2024-05-01 00:00:00+00:00\n",
      "Geometria: {'type': 'Polygon', 'coordinates': [[[-48.96765345219945, -32.79162173755718], [-49.01339674549098, -30.673346401357808], [-51.44703191024781, -30.68776921169888], [-51.45733332360735, -32.80728090508903], [-48.96765345219945, -32.79162173755718]]]}\n"
     ]
    }
   ],
   "source": [
    "# apresenta os resultados\n",
    "for i in items:\n",
    " print(f\"ID: {i.id}\")\n",
    " print(f\"Data: {i.datetime or 'N/A'}\")\n",
    " print(f\"Geometria: {i.geometry or 'N/A'}\")"
   ]
  },
  {
   "cell_type": "code",
   "execution_count": 13,
   "metadata": {},
   "outputs": [
    {
     "name": "stdout",
     "output_type": "stream",
     "text": [
      "dict_keys(['ang', 'red', 'blue', 'green', 'nir08', 'st_qa', 'lwir11', 'swir16', 'swir22', 'coastal', 'mtl.txt', 'mtl.xml', 'sr_stac', 'st_drad', 'st_emis', 'st_emsd', 'st_stac', 'st_trad', 'st_urad', 'mtl.json', 'qa_pixel', 'st_atran', 'st_cdist', 'qa_radsat', 'thumbnail', 'qa_aerosol', 'thumb_large.jpeg', 'thumb_small.jpeg'])\n",
      "https://data.inpe.br/bdc/data/landsat/v2/222/081/2024/LC08_L2SP_222081_20240515_20240521_02_T1/LC08_L2SP_222081_20240515_20240521_02_T1.png\n",
      "https://data.inpe.br/bdc/data/landsat/v2/222/081/2024/LC08_L2SP_222081_20240515_20240521_02_T1/LC08_L2SP_222081_20240515_20240521_02_T1_SR_B4.TIF\n",
      "https://data.inpe.br/bdc/data/landsat/v2/222/081/2024/LC08_L2SP_222081_20240515_20240521_02_T1/LC08_L2SP_222081_20240515_20240521_02_T1_SR_B2.TIF\n",
      "https://data.inpe.br/bdc/data/landsat/v2/222/081/2024/LC08_L2SP_222081_20240515_20240521_02_T1/LC08_L2SP_222081_20240515_20240521_02_T1_SR_B3.TIF\n"
     ]
    }
   ],
   "source": [
    "# recupera os ativos da 1ª imagem\n",
    "primeiro = items[0]\n",
    "ativos = primeiro.assets\n",
    "print(ativos.keys())\n",
    "print(ativos[\"thumbnail\"].href)\n",
    "print(ativos[\"red\"].href)\n",
    "print(ativos[\"blue\"].href)\n",
    "print(ativos[\"green\"].href)"
   ]
  }
 ],
 "metadata": {
  "kernelspec": {
   "display_name": "venv",
   "language": "python",
   "name": "python3"
  },
  "language_info": {
   "codemirror_mode": {
    "name": "ipython",
    "version": 3
   },
   "file_extension": ".py",
   "mimetype": "text/x-python",
   "name": "python",
   "nbconvert_exporter": "python",
   "pygments_lexer": "ipython3",
   "version": "3.10.12"
  }
 },
 "nbformat": 4,
 "nbformat_minor": 2
}
